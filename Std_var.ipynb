{
  "nbformat": 4,
  "nbformat_minor": 0,
  "metadata": {
    "colab": {
      "name": "Untitled1.ipynb",
      "provenance": [],
      "authorship_tag": "ABX9TyP3Mn25314AiDuCaTgwqO70",
      "include_colab_link": true
    },
    "kernelspec": {
      "name": "python3",
      "display_name": "Python 3"
    }
  },
  "cells": [
    {
      "cell_type": "markdown",
      "metadata": {
        "id": "view-in-github",
        "colab_type": "text"
      },
      "source": [
        "<a href=\"https://colab.research.google.com/github/yashikasinha/ML/blob/master/Std_var.ipynb\" target=\"_parent\"><img src=\"https://colab.research.google.com/assets/colab-badge.svg\" alt=\"Open In Colab\"/></a>"
      ]
    },
    {
      "cell_type": "code",
      "metadata": {
        "id": "cTF5Ak_EIxEr",
        "colab_type": "code",
        "colab": {
          "base_uri": "https://localhost:8080/",
          "height": 34
        },
        "outputId": "841ebe2a-eefc-44ab-ef2d-9d4f4ec1101d"
      },
      "source": [
        "import numpy\n",
        "\n",
        "speed = [86, 87, 88, 86, 87, 85, 86]\n",
        "x = numpy.std(speed)\n",
        "print(x)"
      ],
      "execution_count": 1,
      "outputs": [
        {
          "output_type": "stream",
          "text": [
            "0.9035079029052513\n"
          ],
          "name": "stdout"
        }
      ]
    },
    {
      "cell_type": "code",
      "metadata": {
        "id": "9jijYviQKp2B",
        "colab_type": "code",
        "colab": {
          "base_uri": "https://localhost:8080/",
          "height": 34
        },
        "outputId": "e267e39a-cfd3-4a8c-d913-065256ca24b6"
      },
      "source": [
        "import numpy\n",
        "\n",
        "speed = [32, 111, 138, 28, 59, 77, 97]\n",
        "x = numpy.var(speed)\n",
        "print(x)"
      ],
      "execution_count": 2,
      "outputs": [
        {
          "output_type": "stream",
          "text": [
            "1432.2448979591834\n"
          ],
          "name": "stdout"
        }
      ]
    }
  ]
}